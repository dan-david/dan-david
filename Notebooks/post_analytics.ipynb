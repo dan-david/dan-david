{
 "cells": [
  {
   "cell_type": "markdown",
   "metadata": {},
   "source": [
    "### Speech Audio to Emotion"
   ]
  },
  {
   "cell_type": "code",
   "execution_count": 3,
   "metadata": {},
   "outputs": [
    {
     "name": "stderr",
     "output_type": "stream",
     "text": [
      "/home/vscode/.local/lib/python3.10/site-packages/tqdm/auto.py:22: TqdmWarning: IProgress not found. Please update jupyter and ipywidgets. See https://ipywidgets.readthedocs.io/en/stable/user_install.html\n",
      "  from .autonotebook import tqdm as notebook_tqdm\n",
      "torchvision is not available - cannot save figures\n"
     ]
    }
   ],
   "source": [
    "import math\n",
    "from pydub import AudioSegment\n",
    "from speechbrain.pretrained.interfaces import foreign_class\n",
    "\n",
    "class AudioPitchClassifier():\n",
    "    def __init__(self, folder, filename, classifier):\n",
    "        self.filename = filename\n",
    "        self.folder = folder\n",
    "        self.classifier = classifier\n",
    "        self.audio = AudioSegment.from_wav(self.folder + \"//\" + self.filename)\n",
    "        self.labels = ['neutral', 'distress', 'excitment', 'distress']\n",
    "\n",
    "    def get_duration(self):\n",
    "        return self.audio.duration_seconds\n",
    "\n",
    "    def single_split(self, from_sec, to_sec, split_filename):\n",
    "        t1 = from_sec * 1000\n",
    "        t2 = to_sec * 1000\n",
    "        split_audio = self.audio[t1:t2]\n",
    "        split_audio.export(self.folder + \"//\" + split_filename, format=\"wav\")\n",
    "\n",
    "    def predict_pitch_class(self, audio_file):\n",
    "\n",
    "        out_prob, score, index, text_lab = self.classifier.classify_file(self.folder + \"//\" + audio_file)\n",
    "        probs = out_prob.tolist()[0]\n",
    "        max_prob = max(probs)\n",
    "        max_index = probs.index(max_prob)\n",
    "        label = self.labels[max_index]\n",
    "        return label\n",
    "\n",
    "    def multiple_split(self, sec_per_split):\n",
    "        total_secs = math.ceil(self.get_duration()) \n",
    "        predictions = []\n",
    "        for i in range(0, total_secs, sec_per_split):\n",
    "            split_fn = str(i) + '_' + self.filename\n",
    "            self.single_split(i, i+sec_per_split, split_fn)\n",
    "            predictions.append(self.predict_pitch_class(split_fn))\n",
    "            if i == total_secs - sec_per_split:\n",
    "                print('All splited successfully')\n",
    "\n",
    "        return predictions"
   ]
  },
  {
   "cell_type": "code",
   "execution_count": 4,
   "metadata": {},
   "outputs": [
    {
     "name": "stderr",
     "output_type": "stream",
     "text": [
      "Downloading: 100%|██████████| 1.64k/1.64k [00:00<00:00, 1.87MB/s]\n",
      "Downloading: 100%|██████████| 6.01k/6.01k [00:00<00:00, 4.41MB/s]\n",
      "The cache for model files in Transformers v4.22.0 has been updated. Migrating your old cache. This is a one-time only operation. You can interrupt this and resume the migration later on by calling `transformers.utils.move_cache()`.\n"
     ]
    },
    {
     "name": "stdout",
     "output_type": "stream",
     "text": [
      "Moving 0 files to the new cache system\n"
     ]
    },
    {
     "name": "stderr",
     "output_type": "stream",
     "text": [
      "0it [00:00, ?it/s]\n",
      "Downloading: 100%|██████████| 159/159 [00:00<00:00, 136kB/s]\n",
      "Downloading: 100%|██████████| 1.84k/1.84k [00:00<00:00, 484kB/s]\n",
      "/home/vscode/.local/lib/python3.10/site-packages/transformers/configuration_utils.py:364: UserWarning: Passing `gradient_checkpointing` to a config initialization is deprecated and will be removed in v5 Transformers. Using `model.gradient_checkpointing_enable()` instead, or if you are using the `Trainer` API, pass `gradient_checkpointing=True` in your `TrainingArguments`.\n",
      "  warnings.warn(\n",
      "Downloading: 100%|██████████| 380M/380M [01:14<00:00, 5.11MB/s] \n",
      "Some weights of the model checkpoint at facebook/wav2vec2-base were not used when initializing Wav2Vec2Model: ['quantizer.weight_proj.bias', 'project_hid.weight', 'project_q.bias', 'quantizer.weight_proj.weight', 'project_hid.bias', 'quantizer.codevectors', 'project_q.weight']\n",
      "- This IS expected if you are initializing Wav2Vec2Model from the checkpoint of a model trained on another task or with another architecture (e.g. initializing a BertForSequenceClassification model from a BertForPreTraining model).\n",
      "- This IS NOT expected if you are initializing Wav2Vec2Model from the checkpoint of a model that you expect to be exactly identical (initializing a BertForSequenceClassification model from a BertForSequenceClassification model).\n",
      "speechbrain.lobes.models.huggingface_wav2vec - wav2vec 2.0 is frozen.\n",
      "Downloading: 100%|██████████| 378M/378M [00:14<00:00, 26.9MB/s] \n",
      "Downloading: 100%|██████████| 13.2k/13.2k [00:00<00:00, 6.76MB/s]\n",
      "Downloading: 100%|██████████| 83.0/83.0 [00:00<00:00, 92.8kB/s]\n"
     ]
    }
   ],
   "source": [
    "classifier = foreign_class(source=\"speechbrain/emotion-recognition-wav2vec2-IEMOCAP\", pymodule_file=\"custom_interface.py\", classname=\"CustomEncoderWav2vec2Classifier\")\n",
    "folder = \"meeting_id//speaker_2\"\n",
    "audio_file = \"audio.wav\"\n",
    "split_wav = AudioPitchClassifier(folder, audio_file, classifier)\n",
    "predictions = split_wav.multiple_split(sec_per_split=10)"
   ]
  },
  {
   "cell_type": "code",
   "execution_count": 8,
   "metadata": {},
   "outputs": [
    {
     "name": "stdout",
     "output_type": "stream",
     "text": [
      "There are 93 neutral events.\n",
      "There are 7 excitment events.\n",
      "There are 8 distress events.\n"
     ]
    }
   ],
   "source": [
    "print(\"There are {} neutral events.\".format(predictions.count('neutral')))\n",
    "print(\"There are {} excitment events.\".format(predictions.count('excitment')))\n",
    "print(\"There are {} distress events.\".format(predictions.count('distress')))"
   ]
  }
 ],
 "metadata": {
  "kernelspec": {
   "display_name": "Python 3.10.7 64-bit",
   "language": "python",
   "name": "python3"
  },
  "language_info": {
   "codemirror_mode": {
    "name": "ipython",
    "version": 3
   },
   "file_extension": ".py",
   "mimetype": "text/x-python",
   "name": "python",
   "nbconvert_exporter": "python",
   "pygments_lexer": "ipython3",
   "version": "3.10.7"
  },
  "vscode": {
   "interpreter": {
    "hash": "949777d72b0d2535278d3dc13498b2535136f6dfe0678499012e853ee9abcab1"
   }
  }
 },
 "nbformat": 4,
 "nbformat_minor": 4
}
